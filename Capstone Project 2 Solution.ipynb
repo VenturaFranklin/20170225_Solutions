{
 "cells": [
  {
   "cell_type": "markdown",
   "metadata": {},
   "source": [
    "Matlab Function to convert:\n",
    "```\n",
    "function isChoiceCorrect = simulate_oneDecision(num_decisions, prob)\n",
    "%{\n",
    "simulate one decision given the number of times to try and the probability\n",
    "returns 1 or 0 depending on the outcome\n",
    "%}\n",
    "for i = 1:num_decisions\n",
    "    if rand <= prob\n",
    "        isCorrect(i) = 1;\n",
    "    else\n",
    "        isCorrect(i) = 0;\n",
    "    end\n",
    "end\n",
    "\n",
    "N_correct = sum(isCorrect);\n",
    "N_incorrect = num_decisions - sum(isCorrect);\n",
    "\n",
    "if N_correct > N_incorrect\n",
    "    isChoiceCorrect = 1;\n",
    "elseif N_correct < N_incorrect\n",
    "    isChoiceCorrect = 0;\n",
    "elseif N_correct == N_incorrect\n",
    "    isChoiceCorrect = rand <= 0.5;\n",
    "end\n",
    "```"
   ]
  },
  {
   "cell_type": "code",
   "execution_count": 1,
   "metadata": {
    "collapsed": true
   },
   "outputs": [],
   "source": [
    "import numpy as np"
   ]
  },
  {
   "cell_type": "code",
   "execution_count": 2,
   "metadata": {
    "collapsed": false
   },
   "outputs": [],
   "source": [
    "def simulate_oneDecision(num_decisions, prob):\n",
    "    '''\n",
    "    simulate one decision given the number of times to try and the probability\n",
    "    returns 1 or 0 depending on the outcome\n",
    "    '''\n",
    "    isCorrect = [0] * num_decisions\n",
    "    for i in range(num_decisions):\n",
    "        if np.random.random() <= prob:\n",
    "            isCorrect[i] = 1;\n",
    "    #print(isCorrect)\n",
    "    N_correct = sum(isCorrect)\n",
    "    N_incorrect = num_decisions - sum(isCorrect)\n",
    "\n",
    "    if N_correct > N_incorrect:\n",
    "        isChoiceCorrect = 1\n",
    "    elif N_correct < N_incorrect:\n",
    "        isChoiceCorrect = 0\n",
    "    elif N_correct == N_incorrect:\n",
    "        isChoiceCorrect = np.random.random() <= 0.5\n",
    "    return isChoiceCorrect"
   ]
  },
  {
   "cell_type": "markdown",
   "metadata": {},
   "source": [
    "```\n",
    "function avg_acc = simulate_manyDecisions(num_replications, num_decisions, prob)\n",
    ", \n",
    "%{\n",
    "simulate a decision many times given\n",
    "number or replications, number of decisions, and probability\n",
    "returns an average of the results\n",
    "%}\n",
    "for replication = 1:num_replications\n",
    "    isChoiceCorrect(replication) = simulate_oneDecision(num_decisions, prob);\n",
    "end\n",
    "avg_acc = mean(isChoiceCorrect);\n",
    "```"
   ]
  },
  {
   "cell_type": "code",
   "execution_count": 3,
   "metadata": {
    "collapsed": true
   },
   "outputs": [],
   "source": [
    "def simulate_manyDecisions(num_replications, num_decisions, prob):\n",
    "    '''\n",
    "    simulate a decision many times given\n",
    "    number or replications, number of decisions, and probability\n",
    "    returns an average of the results\n",
    "    '''\n",
    "    isChoiceCorrect = [0] * num_replications\n",
    "    for replication in range(num_replications):\n",
    "        isChoiceCorrect[replication] = simulate_oneDecision(num_decisions, prob)\n",
    "    avg_acc = np.mean(isChoiceCorrect)\n",
    "    return avg_acc"
   ]
  },
  {
   "cell_type": "markdown",
   "metadata": {},
   "source": [
    "```\n",
    "num_decisions = 100;\n",
    "num_replications = 1000;\n",
    "probability_vals = [0.5:0.05:0.8];\n",
    "\n",
    "for i = 1:length(probability_vals)\n",
    "    prob = probability_vals(i);\n",
    "    avg_acc(i) = simulate_manyDecisions(num_replications, num_decisions, prob);\n",
    "end\n",
    "\n",
    "\n",
    "figure(1); clf; hold on;\n",
    "plot(probability_vals, avg_acc)\n",
    "xlabel('Proportion of dots moving in the correct direction (prob)')\n",
    "ylabel('Probability of correct answer')\n",
    "```"
   ]
  },
  {
   "cell_type": "code",
   "execution_count": 4,
   "metadata": {
    "collapsed": true
   },
   "outputs": [],
   "source": [
    "%matplotlib inline\n",
    "import matplotlib.pyplot as plt"
   ]
  },
  {
   "cell_type": "code",
   "execution_count": 5,
   "metadata": {
    "collapsed": false,
    "scrolled": false
   },
   "outputs": [
    {
     "name": "stdout",
     "output_type": "stream",
     "text": [
      "[ 0.5   0.55  0.6   0.65  0.7   0.75  0.8 ]\n"
     ]
    },
    {
     "data": {
      "text/plain": [
       "<matplotlib.text.Text at 0x81f42e8>"
      ]
     },
     "execution_count": 5,
     "metadata": {},
     "output_type": "execute_result"
    },
    {
     "data": {
      "image/png": "[encoded data removed]",
      "text/plain": [
       "<matplotlib.figure.Figure at 0x59f7e80>"
      ]
     },
     "metadata": {},
     "output_type": "display_data"
    }
   ],
   "source": [
    "num_decisions = 100\n",
    "num_replications = 1000\n",
    "probability_vals = np.arange(0.5,0.8,0.05)\n",
    "print(probability_vals)\n",
    "avg_acc = [0] * len(probability_vals)\n",
    "\n",
    "for i, prob in enumerate(probability_vals):\n",
    "    avg_acc[i] = simulate_manyDecisions(num_replications, num_decisions, prob)\n",
    "\n",
    "plt.plot(probability_vals, avg_acc)\n",
    "plt.xlabel('Proportion of dots moving in the correct direction (prob)')\n",
    "plt.ylabel('Probability of correct answer')"
   ]
  }
 ],
 "metadata": {
  "kernelspec": {
   "display_name": "Python 3",
   "language": "python",
   "name": "python3"
  },
  "language_info": {
   "codemirror_mode": {
    "name": "ipython",
    "version": 3
   },
   "file_extension": ".py",
   "mimetype": "text/x-python",
   "name": "python",
   "nbconvert_exporter": "python",
   "pygments_lexer": "ipython3",
   "version": "3.6.0"
  }
 },
 "nbformat": 4,
 "nbformat_minor": 2
}
