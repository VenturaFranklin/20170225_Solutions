{
 "cells": [
  {
   "cell_type": "markdown",
   "metadata": {
    "collapsed": true,
    "deletable": true,
    "editable": true
   },
   "source": [
    "# Functions\n",
    "Functions in Python are like mathematical functions.\n",
    "A function will take some values, do something to them or with them, and return something.\n",
    "Python functions can take any combination of data types and data structures\n",
    "and return a single value that can be any data type or data structure"
   ]
  },
  {
   "cell_type": "markdown",
   "metadata": {
    "deletable": true,
    "editable": true
   },
   "source": [
    "_Don't forget, to run a cell use the keys Shift+Enter_"
   ]
  },
  {
   "cell_type": "code",
   "execution_count": 1,
   "metadata": {
    "collapsed": true,
    "deletable": true,
    "editable": true
   },
   "outputs": [],
   "source": [
    "# a simple function that looks like a mathematical function\n",
    "# define a function called add_two_numbers that take 2 arguments: num1 and num2\n",
    "def add_two_numbers(num1, num2):\n",
    "    # Under the def must be indented\n",
    "    return num1 + num2 # use the return statment to tell the function what to return"
   ]
  },
  {
   "cell_type": "markdown",
   "metadata": {
    "deletable": true,
    "editable": true
   },
   "source": [
    "Use return ... to give a value back to the caller. A function that doesn’t explicitly return a value automatically returns None.\n",
    "\n",
    "Defining a function does not run it. You must call the function to execute the code it contains."
   ]
  },
  {
   "cell_type": "code",
   "execution_count": 2,
   "metadata": {
    "collapsed": false,
    "deletable": true,
    "editable": true
   },
   "outputs": [
    {
     "data": {
      "text/plain": [
       "995"
      ]
     },
     "execution_count": 2,
     "metadata": {},
     "output_type": "execute_result"
    }
   ],
   "source": [
    "add_two_numbers(905, 90)"
   ]
  },
  {
   "cell_type": "code",
   "execution_count": 3,
   "metadata": {
    "collapsed": false,
    "deletable": true,
    "editable": true
   },
   "outputs": [
    {
     "name": "stdout",
     "output_type": "stream",
     "text": [
      "995\n",
      "995\n"
     ]
    }
   ],
   "source": [
    "# written a different way\n",
    "# define a function called add_two_numbers that take 2 arguments: num1 and num2\n",
    "def add_two_numbers(num1, num2): \n",
    "    total = num1 + num2 # do the stuff\n",
    "    # This is the body of the function\n",
    "    return total # use the return statment to tell the function what to return\n",
    "\n",
    "result = add_two_numbers(905, 90)\n",
    "print(result)\n",
    "print(add_two_numbers(905, 90))"
   ]
  },
  {
   "cell_type": "markdown",
   "metadata": {
    "deletable": true,
    "editable": true
   },
   "source": [
    "### Question 00"
   ]
  },
  {
   "cell_type": "markdown",
   "metadata": {
    "deletable": true,
    "editable": true
   },
   "source": [
    "What does the following program print? (Don't actually code, just think about it.)\n",
    "```\n",
    "def report(pressure):\n",
    "    print(‘pressure is: ’, pressure)\n",
    "\n",
    "report(22.5)\n",
    "```"
   ]
  },
  {
   "cell_type": "markdown",
   "metadata": {
    "deletable": true,
    "editable": true
   },
   "source": [
    "### Practice 00"
   ]
  },
  {
   "cell_type": "markdown",
   "metadata": {
    "deletable": true,
    "editable": true
   },
   "source": [
    "“Adding” two strings produces their concatenation: 'a' + 'b' is 'ab'. Write a function called quote that takes two parameters called original and wrapper and returns a new string that has the wrapper character at the beginning and end of the original. \n",
    "\n",
    "A call to your function should look like this:\n",
    "```\n",
    "print(quote('name', '\"'))\n",
    "\"name\"\n",
    "```"
   ]
  },
  {
   "cell_type": "code",
   "execution_count": 4,
   "metadata": {
    "collapsed": true,
    "deletable": true,
    "editable": true
   },
   "outputs": [],
   "source": [
    "# write your function here\n",
    "def quote(original, wrapper):\n",
    "    return wrapper+original+wrapper"
   ]
  },
  {
   "cell_type": "code",
   "execution_count": 5,
   "metadata": {
    "collapsed": false,
    "deletable": true,
    "editable": true,
    "scrolled": true
   },
   "outputs": [
    {
     "name": "stdout",
     "output_type": "stream",
     "text": [
      "\"name\"\n"
     ]
    }
   ],
   "source": [
    "# Run this cell after defining your function\n",
    "print(quote('name', '\"'))"
   ]
  },
  {
   "cell_type": "markdown",
   "metadata": {
    "deletable": true,
    "editable": true
   },
   "source": [
    "### Practice 01"
   ]
  },
  {
   "cell_type": "markdown",
   "metadata": {
    "deletable": true,
    "editable": true
   },
   "source": [
    "If the variable s refers to a string, then s[0] is the string’s first character and s[-1] is its last. Write a function called outer that returns a string made up of just the first and last characters of its input. \n",
    "\n",
    "A call to your function should look like this:\n",
    "```\n",
    "print(outer('helium'))\n",
    "hm\n",
    "```"
   ]
  },
  {
   "cell_type": "code",
   "execution_count": 6,
   "metadata": {
    "collapsed": true,
    "deletable": true,
    "editable": true
   },
   "outputs": [],
   "source": [
    "# write your function here\n",
    "def outer(my_str):\n",
    "    return my_str[0]+my_str[-1]"
   ]
  },
  {
   "cell_type": "code",
   "execution_count": 7,
   "metadata": {
    "collapsed": false,
    "deletable": true,
    "editable": true
   },
   "outputs": [
    {
     "name": "stdout",
     "output_type": "stream",
     "text": [
      "hm\n"
     ]
    }
   ],
   "source": [
    "# Run this cell after defining your function\n",
    "print(outer('helium'))"
   ]
  },
  {
   "cell_type": "markdown",
   "metadata": {
    "deletable": true,
    "editable": true
   },
   "source": [
    "### Question 01"
   ]
  },
  {
   "cell_type": "markdown",
   "metadata": {
    "deletable": true,
    "editable": true
   },
   "source": [
    "Explain why the two lines of output appeared in the order they did.\n",
    "```\n",
    "def print_date(year, month, day):\n",
    "    joined = str(year) + '/' + str(month) + '/' + str(day)\n",
    "    print(joined)\n",
    "\n",
    "result = print_date(1871, 3, 19)\n",
    "print('result of call is:', result)\n",
    "```\n",
    "OUTPUT:\n",
    "\n",
    "1871/3/19 result of call is: None"
   ]
  },
  {
   "cell_type": "markdown",
   "metadata": {
    "deletable": true,
    "editable": true
   },
   "source": [
    "# COMMIT YOUR WORK\n",
    "Everytime you finish a function, you should commit your work."
   ]
  },
  {
   "cell_type": "markdown",
   "metadata": {
    "deletable": true,
    "editable": true
   },
   "source": [
    "## Why Use Functions?\n",
    "Functions let us break down our programs into smaller bits that can be reused and tested\n",
    "* Human beings can only keep a few items in working memory at a time.\n",
    "* Understand larger/more complicated ideas by understanding and combining pieces.\n",
    "    * Components in a machine.\n",
    "* Functions serve the same purpose in programs.\n",
    "    * Encapsulate complexity so that we can treat it as a single “thing”.\n",
    "* Also enables re-use.\n",
    "    * Write one time, use many times."
   ]
  },
  {
   "cell_type": "markdown",
   "metadata": {
    "collapsed": true,
    "deletable": true,
    "editable": true
   },
   "source": [
    "### Reusability\n",
    "Imagine a really big program with lots of lines of code.\n",
    "There is a section of code you want to use in a different part of the program.\n",
    "\n",
    "How do you reuse that part of the code?\n",
    "\n",
    "If you just have one big program then you have to copy and paste that bit of code where you want it to go, but if that bit was a function, you could just use that function\n",
    "\n",
    "\n",
    "Always keep both of these concepts in mind when writing programs.\n",
    "Try to write small functions that do one thing\n",
    "Your programs should be composed of lots of functions that do one thing\n",
    "Never have one giant function that does a million things."
   ]
  },
  {
   "cell_type": "markdown",
   "metadata": {
    "deletable": true,
    "editable": true
   },
   "source": [
    "## Our Problem\n",
    "**Last month we ran an experiment in the lab, but one of the windows was left open.**\n",
    "\n",
    "**If the temperature in the lab fell below 285 degrees Kelvin all of the data is ruined.**\n",
    "\n",
    "**Luckily a data logger was running, but unfortunately it only collects the temperature in Fahrenheit.**\n",
    "\n",
    "_Why is the time in a different format? To avoid difficulties during class with having to teach datetime stuff._\n",
    "\n",
    "**Example log data:**\n",
    "\n",
    "```\n",
    "beginTime,Temp\n",
    "42736.00,54\n",
    "42736.04,11.7\n",
    "42736.08,11.7\n",
    "```"
   ]
  },
  {
   "cell_type": "markdown",
   "metadata": {
    "deletable": true,
    "editable": true
   },
   "source": [
    "Write a function that converts temperatures from Fahrenheit to Kelvin. ((temp_f - 32) * (5/9)) + 273.15)"
   ]
  },
  {
   "cell_type": "code",
   "execution_count": 8,
   "metadata": {
    "collapsed": false,
    "deletable": true,
    "editable": true
   },
   "outputs": [
    {
     "name": "stdout",
     "output_type": "stream",
     "text": [
      "273.1\n"
     ]
    }
   ],
   "source": [
    "def fahr_to_kelvin(temp_f):\n",
    "    return round(((temp_f - 32) * (5/9)) + 273.15, 1)\n",
    "\n",
    "print(fahr_to_kelvin(32))"
   ]
  },
  {
   "cell_type": "markdown",
   "metadata": {
    "deletable": true,
    "editable": true
   },
   "source": [
    "##### COMMIT YOUR WORK"
   ]
  },
  {
   "cell_type": "markdown",
   "metadata": {
    "deletable": true,
    "editable": true
   },
   "source": [
    "### Documentation\n",
    "Along with the concept of resusability is documenation.\n",
    "\n",
    "While python is easy to read and follow, you will either need to share\n",
    "your code with others or you will forget what you did.\n",
    "\n",
    "You should strive to always add a sentance or two description of what the function does, as well as providing one or two examples."
   ]
  },
  {
   "cell_type": "code",
   "execution_count": 9,
   "metadata": {
    "collapsed": false,
    "deletable": true,
    "editable": true,
    "scrolled": true
   },
   "outputs": [
    {
     "name": "stdout",
     "output_type": "stream",
     "text": [
      "Help on built-in function round in module builtins:\n",
      "\n",
      "round(...)\n",
      "    round(number[, ndigits]) -> number\n",
      "    \n",
      "    Round a number to a given precision in decimal digits (default 0 digits).\n",
      "    This returns an int when called with one argument, otherwise the\n",
      "    same type as the number. ndigits may be negative.\n",
      "\n"
     ]
    }
   ],
   "source": [
    "help(round)"
   ]
  },
  {
   "cell_type": "markdown",
   "metadata": {
    "deletable": true,
    "editable": true
   },
   "source": [
    "Another way"
   ]
  },
  {
   "cell_type": "code",
   "execution_count": 10,
   "metadata": {
    "collapsed": false,
    "deletable": true,
    "editable": true
   },
   "outputs": [],
   "source": [
    "round?"
   ]
  },
  {
   "cell_type": "markdown",
   "metadata": {
    "deletable": true,
    "editable": true
   },
   "source": [
    "Another way"
   ]
  },
  {
   "cell_type": "code",
   "execution_count": null,
   "metadata": {
    "collapsed": false,
    "deletable": true,
    "editable": true
   },
   "outputs": [],
   "source": [
    "round(#put your cursor and use the keys Shift+tab"
   ]
  },
  {
   "cell_type": "markdown",
   "metadata": {
    "deletable": true,
    "editable": true
   },
   "source": [
    "Adding documentation to your own code is simple and easy.\n",
    "\n",
    "Immediately after defining the function add a documenation block with triple-quotes (''')\n",
    "```\n",
    "def add_two_numbers(num1, num2):\n",
    "    '''\n",
    "    This is where to put documentation\n",
    "    Return the sum of two numbers\n",
    "    Example:\n",
    "    >>> add_two_numbers(4, 19)\n",
    "    23\n",
    "    >>> add_two_numbers(-1, 5)\n",
    "    4\n",
    "    '''\n",
    "    return num1 + num2\n",
    "```\n",
    "Add documentation to your function fahr_to_kelvin."
   ]
  },
  {
   "cell_type": "code",
   "execution_count": 11,
   "metadata": {
    "collapsed": false
   },
   "outputs": [
    {
     "name": "stdout",
     "output_type": "stream",
     "text": [
      "273.1\n"
     ]
    }
   ],
   "source": [
    "def fahr_to_kelvin(temp_f):\n",
    "    '''\n",
    "    Takes a temperature in Fahrenheit, temp_f, and returns the temperature in Kelvin\n",
    "    >>> farh_to_kelvin(32)\n",
    "    273.2\n",
    "    >>> farh_to_kelvin(0)\n",
    "    255.4\n",
    "    '''\n",
    "    return round(((float(temp_f) - 32) * (5/9)) + 273.15, 1)\n",
    "\n",
    "print(fahr_to_kelvin(32))"
   ]
  },
  {
   "cell_type": "code",
   "execution_count": 12,
   "metadata": {
    "collapsed": false,
    "deletable": true,
    "editable": true
   },
   "outputs": [
    {
     "name": "stdout",
     "output_type": "stream",
     "text": [
      "Help on function fahr_to_kelvin in module __main__:\n",
      "\n",
      "fahr_to_kelvin(temp_f)\n",
      "    Takes a temperature in Fahrenheit, temp_f, and returns the temperature in Kelvin\n",
      "    >>> farh_to_kelvin(32)\n",
      "    273.2\n",
      "    >>> farh_to_kelvin(0)\n",
      "    255.4\n",
      "\n"
     ]
    }
   ],
   "source": [
    "# Run this cell after adding documentation\n",
    "help(fahr_to_kelvin)"
   ]
  },
  {
   "cell_type": "markdown",
   "metadata": {
    "deletable": true,
    "editable": true
   },
   "source": [
    "##### COMMIT YOUR WORK"
   ]
  },
  {
   "cell_type": "markdown",
   "metadata": {
    "deletable": true,
    "editable": true
   },
   "source": [
    "**We read the packaging on the materials wrong! If the temperature in the lab fell below -5 degrees Celsius all of the data is ruined.**\n",
    "\n",
    "Write a function that converts temperatures from Kelvin into Celsius. temp_k - 273.15"
   ]
  },
  {
   "cell_type": "code",
   "execution_count": 13,
   "metadata": {
    "collapsed": false,
    "deletable": true,
    "editable": true
   },
   "outputs": [
    {
     "name": "stdout",
     "output_type": "stream",
     "text": [
      "0.0\n",
      "26.9\n"
     ]
    }
   ],
   "source": [
    "def kelvin_to_celsius(temp_k):\n",
    "    '''\n",
    "    Takes a temperature in Kelvin, temp_k, and returns the temperature in Celsius\n",
    "    >>> kelvin_to_celsius(273.15)\n",
    "    0.0\n",
    "    >>> kelvin_to_celsius(323)\n",
    "    49.9\n",
    "    '''\n",
    "    return round(float(temp_k) - 273.15, 1)\n",
    "\n",
    "print(kelvin_to_celsius(273.15))\n",
    "print(kelvin_to_celsius(300))"
   ]
  },
  {
   "cell_type": "code",
   "execution_count": 14,
   "metadata": {
    "collapsed": false,
    "deletable": true,
    "editable": true
   },
   "outputs": [
    {
     "name": "stdout",
     "output_type": "stream",
     "text": [
      "Help on function kelvin_to_celsius in module __main__:\n",
      "\n",
      "kelvin_to_celsius(temp_k)\n",
      "    Takes a temperature in Kelvin, temp_k, and returns the temperature in Celsius\n",
      "    >>> kelvin_to_celsius(273.15)\n",
      "    0.0\n",
      "    >>> kelvin_to_celsius(323)\n",
      "    49.9\n",
      "\n"
     ]
    }
   ],
   "source": [
    "# Did you add documentation?\n",
    "help(kelvin_to_celsius)"
   ]
  },
  {
   "cell_type": "markdown",
   "metadata": {
    "collapsed": true,
    "deletable": true,
    "editable": true
   },
   "source": [
    "##### COMMIT YOUR WORK"
   ]
  },
  {
   "cell_type": "markdown",
   "metadata": {
    "collapsed": true,
    "deletable": true,
    "editable": true
   },
   "source": [
    "**Because we know issues like this happen all of the time, let's prepare for the inevitability.**\n",
    "\n",
    "Write a function to convert Fahrenheit to Celsius, **without a formula**.\n",
    "\n",
    "We could write out the formula, but we don’t need to. Instead, we can compose the two functions we have already created"
   ]
  },
  {
   "cell_type": "code",
   "execution_count": 15,
   "metadata": {
    "collapsed": true,
    "deletable": true,
    "editable": true
   },
   "outputs": [],
   "source": [
    "def fahr_to_celsius(temp_f):\n",
    "    '''\n",
    "    Takes a temperature in Fahrenheit, temp_f, and returns the temperature in Celsius\n",
    "    >>> fahr_to_celsius(0)\n",
    "    -17.8\n",
    "    >>> fahr_to_celsius(-40)\n",
    "    -40.0\n",
    "    >>> fahr_to_celsius(120)\n",
    "    48.9\n",
    "    '''\n",
    "    temp_k = fahr_to_kelvin(temp_f)\n",
    "    temp_c = kelvin_to_celsius(temp_k)\n",
    "    return temp_c"
   ]
  },
  {
   "cell_type": "markdown",
   "metadata": {
    "deletable": true,
    "editable": true
   },
   "source": [
    "This is our first taste of how larger programs are built: we define basic operations, then combine them in ever-larger chunks to get the effect we want. Real-life functions will usually be larger than the ones shown here — typically half a dozen to a few dozen lines — but they shouldn’t ever be much longer than that, or the next person who reads it won’t be able to understand what’s going on."
   ]
  },
  {
   "cell_type": "markdown",
   "metadata": {
    "collapsed": false,
    "deletable": true,
    "editable": true
   },
   "source": [
    "Did you write documenation?\n",
    "##### COMMIT YOUR WORK"
   ]
  },
  {
   "cell_type": "markdown",
   "metadata": {
    "collapsed": true,
    "deletable": true,
    "editable": true
   },
   "source": [
    "### Arguments in call are matched to parameters in definition.\n",
    "* Functions are most useful when they can operate on different data.\n",
    "* Specify parameters when defining a function.\n",
    "    * These become variables when the function is executed.\n",
    "    * Are assigned the arguments in the call (i.e., the values passed to the function)."
   ]
  },
  {
   "cell_type": "markdown",
   "metadata": {
    "deletable": true,
    "editable": true
   },
   "source": [
    "### Default Values\n",
    "If we usually want a function to work one way, but occasionally need it to do something else, we can allow people to pass a parameter when they need to but provide a default to make the normal case easier."
   ]
  },
  {
   "cell_type": "code",
   "execution_count": 16,
   "metadata": {
    "collapsed": false,
    "deletable": true,
    "editable": true
   },
   "outputs": [
    {
     "name": "stdout",
     "output_type": "stream",
     "text": [
      "no parameters:\n",
      "a: 1 b: 2 c: 3\n",
      "one parameter:\n",
      "a: 55 b: 2 c: 3\n",
      "two parameters:\n",
      "a: 55 b: 66 c: 3\n"
     ]
    }
   ],
   "source": [
    "def display(a=1, b=2, c=3):\n",
    "    print('a:', a, 'b:', b, 'c:', c)\n",
    "\n",
    "print('no parameters:')\n",
    "display()\n",
    "print('one parameter:')\n",
    "display(55)\n",
    "print('two parameters:')\n",
    "display(55, 66)"
   ]
  },
  {
   "cell_type": "markdown",
   "metadata": {
    "deletable": true,
    "editable": true
   },
   "source": [
    "As this example shows, parameters are matched up from left to right, and any that haven’t been given a value explicitly get their default value. We can override this behavior by naming the value as we pass it in:"
   ]
  },
  {
   "cell_type": "code",
   "execution_count": 17,
   "metadata": {
    "collapsed": false,
    "deletable": true,
    "editable": true
   },
   "outputs": [
    {
     "name": "stdout",
     "output_type": "stream",
     "text": [
      "only setting the value of c\n",
      "a: 1 b: 2 c: 77\n"
     ]
    }
   ],
   "source": [
    "print('only setting the value of c')\n",
    "display(c=77)"
   ]
  },
  {
   "cell_type": "markdown",
   "metadata": {
    "deletable": true,
    "editable": true
   },
   "source": [
    "**It looks like the logger actually can collect Celsius after all! Unfortunately the logger forgets what temperature type to log and has been intermittently logging both Celsius and Fahrenheit. And we have material that can not have a temperature greater than 80 degrees Fahrenheit!**\n",
    "\n",
    "**Example log data:**\n",
    "```\n",
    "beginTime,Temp,TempType\n",
    "42736.00,54,F\n",
    "42736.04,11.7,C\n",
    "42736.08,11.7,C\n",
    "```"
   ]
  },
  {
   "cell_type": "markdown",
   "metadata": {
    "deletable": true,
    "editable": true
   },
   "source": [
    "First, write a function to convert from Celsius to Fahrenheit. (9/5) * temp_c + 32"
   ]
  },
  {
   "cell_type": "code",
   "execution_count": 18,
   "metadata": {
    "collapsed": true,
    "deletable": true,
    "editable": true
   },
   "outputs": [],
   "source": [
    "def celsius_to_fahr(temp_c):\n",
    "    '''\n",
    "    Takes a temperature in Celsius, temp_c, and returns the temperature in Fahrneheit\n",
    "    >>> celsius_to_fahr(-17.8)\n",
    "    0.0\n",
    "    >>> celsius_to_fahr(-40)\n",
    "    -40.0\n",
    "    >>> celsius_to_fahr(48.9)\n",
    "    120.0\n",
    "    '''\n",
    "    return round((9/5) * float(temp_c) + 32, 1)"
   ]
  },
  {
   "cell_type": "markdown",
   "metadata": {
    "deletable": true,
    "editable": true
   },
   "source": [
    "##### COMMIT YOUR WORK"
   ]
  },
  {
   "cell_type": "markdown",
   "metadata": {
    "deletable": true,
    "editable": true
   },
   "source": [
    "Now, write a function that either converts to fahrenheit or celsius based on a parameter, with a default assuming fahrenheit ('F')\n",
    "\n",
    "Remember if/else:"
   ]
  },
  {
   "cell_type": "code",
   "execution_count": 19,
   "metadata": {
    "collapsed": true,
    "deletable": true,
    "editable": true
   },
   "outputs": [],
   "source": [
    "def convert_temp(temp, temp_type='F'):\n",
    "    '''\n",
    "    Takes a temperature, temp and temp_type,\n",
    "    and returns the temperature in Fahrenheit\n",
    "    if the original temp is Celsius\n",
    "    or Celsius if the original temp is Fahrenheit\n",
    "    >>> convert_temp(-40, 'F')\n",
    "    -40.0\n",
    "    >>> convert_temp(0, 'C')\n",
    "    32.0\n",
    "    >>> convert_temp(32)\n",
    "    0.0\n",
    "    '''\n",
    "    if temp_type=='F':\n",
    "        new_temp =  fahr_to_celsius(temp)\n",
    "    else:\n",
    "        new_temp = celsius_to_fahr(temp)\n",
    "    return new_temp"
   ]
  },
  {
   "cell_type": "markdown",
   "metadata": {
    "deletable": true,
    "editable": true
   },
   "source": [
    "##### COMMIT YOUR WORK"
   ]
  },
  {
   "cell_type": "markdown",
   "metadata": {
    "deletable": true,
    "editable": true
   },
   "source": [
    "### Testability\n",
    "Imagine a really big program with lots of lines of code.  \n",
    "There is a problem somewhere in the code because you are not getting the results you expect\n",
    "\n",
    "How do you find the problem in your code?\n",
    "\n",
    "If your program is composed of lots of small functions that only do one thing then you can test each function individually.\n",
    "\n",
    "The full concept is beyond our workshop today, but it is simple enough, here is an example.\n",
    "\n",
    "Do your functions always work? What errors do you get? Can you change your functions to address those errors?"
   ]
  },
  {
   "cell_type": "code",
   "execution_count": 20,
   "metadata": {
    "collapsed": false,
    "deletable": true,
    "editable": true
   },
   "outputs": [
    {
     "name": "stdout",
     "output_type": "stream",
     "text": [
      "-40.0\n",
      "32.0\n",
      "-0.0\n",
      "12.2\n",
      "54.0\n",
      "54.0\n"
     ]
    }
   ],
   "source": [
    "# Run this cell after writing convert_temp\n",
    "test_1_result = convert_temp(-40.0, 'F')\n",
    "print(test_1_result)\n",
    "assert test_1_result==-40.0\n",
    "\n",
    "test_2_result = convert_temp(0.0, 'C')\n",
    "print(test_2_result)\n",
    "assert test_2_result==32.0\n",
    "\n",
    "test_3_result = convert_temp(32.0, 'F')\n",
    "print(test_3_result)\n",
    "assert test_3_result==0.0\n",
    "\n",
    "test_4_result = convert_temp(54.0)\n",
    "print(test_4_result)\n",
    "assert test_4_result==12.2\n",
    "\n",
    "test_5_result = convert_temp(12.2, 'C')\n",
    "print(test_5_result)\n",
    "assert test_5_result==54.0\n",
    "\n",
    "# Did you handle strings instead of float?\n",
    "test_6_result = convert_temp('12.2', 'C')\n",
    "print(test_6_result)\n",
    "assert test_6_result==54.0"
   ]
  },
  {
   "cell_type": "markdown",
   "metadata": {
    "collapsed": true,
    "deletable": true,
    "editable": true
   },
   "source": [
    "##### COMMIT YOUR WORK"
   ]
  },
  {
   "cell_type": "markdown",
   "metadata": {
    "deletable": true,
    "editable": true
   },
   "source": [
    "Let's load the logger data.\n",
    "\n",
    "Below is a function that loads a file and loops over each line. \n",
    "\n",
    "Adjust the function to convert the temperature, and saves the temp to the right list."
   ]
  },
  {
   "cell_type": "code",
   "execution_count": 21,
   "metadata": {
    "collapsed": true,
    "deletable": true,
    "editable": true
   },
   "outputs": [],
   "source": [
    "import csv"
   ]
  },
  {
   "cell_type": "code",
   "execution_count": 22,
   "metadata": {
    "collapsed": false,
    "deletable": true,
    "editable": true,
    "scrolled": false
   },
   "outputs": [
    {
     "name": "stdout",
     "output_type": "stream",
     "text": [
      "([54.0, 53.1, 53.1, 54.0, 55.0, 55.0, 55.0, 53.1, 53.1, 53.1, 45.0, 45.0, 46.0, 46.9, 50.0, 51.1, 50.0, 48.9, 48.9, 48.9, 46.9, 46.0, 45.0, 44.1, 43.0, 43.0, 43.0, 42.1, 42.1, 37.0, 37.9, 39.0, 43.0, 46.0, 48.0, 51.1, 55.0, 55.0, 55.9, 55.9, 55.0, 53.1, 51.1, 50.0, 51.1, 48.0, 48.0, 46.0, 45.0, 44.1, 41.0, 39.9, 41.0, 39.9, 39.9, 39.9, 43.0, 50.0, 53.1, 55.9, 59.0, 63.0, 63.0, 63.0, 62.1, 60.1, 57.9, 57.0, 57.0, 54.0, 53.1, 53.1, 51.1, 50.0, 52.0, 48.9, 48.0, 46.0, 44.1, 45.0, 48.0, 54.0, 57.0, 62.1, 66.0, 66.9, 68.0, 69.1, 66.0, 61.0, 59.0, 54.0, 52.0, 50.0, 48.9, 48.9, 46.9, 46.9, 46.0, 46.9, 45.0, 44.1, 45.0, 46.0, 48.0, 53.1, 57.9, 66.0, 66.0, 69.1, 69.1, 69.1, 66.9, 64.0, 61.0, 60.1, 57.0, 55.0, 53.1, 52.0, 51.1, 53.1, 48.9, 50.0, 48.0, 50.0, 53.1, 50.0, 54.0, 57.0, 57.9, 60.1, 61.0, 61.0, 62.1, 62.1, 61.0, 57.9, 54.0, 54.0, 48.9, 46.9, 45.0, 44.1, 42.1, 43.0, 44.1, 42.1, 42.1, 41.0, 41.0, 39.0, 48.9, 51.1, 59.0, 61.0, 64.0, 68.0, 68.0, 70.0, 70.0, 64.9, 60.1, 57.9, 53.1, 51.1, 54.0, 53.1], [12.2, 11.7, 11.7, 12.2, 12.8, 12.8, 12.8, 11.7, 11.7, 11.8, 7.2, 7.2, 7.8, 8.2, 10.0, 10.6, 10.0, 9.4, 9.4, 9.4, 8.3, 7.8, 7.2, 6.8, 6.2, 6.2, 6.1, 5.6, 5.7, 2.8, 3.3, 3.9, 6.1, 7.8, 8.9, 10.6, 12.8, 12.8, 13.2, 13.2, 12.8, 11.7, 10.6, 10.0, 10.7, 8.9, 8.9, 7.8, 7.2, 6.8, 5.0, 4.4, 5.0, 4.4, 4.4, 4.4, 6.2, 10.0, 11.7, 13.2, 15.0, 17.2, 17.2, 17.2, 16.7, 15.7, 14.4, 13.9, 13.9, 12.2, 11.8, 11.8, 10.6, 10.0, 11.1, 9.4, 8.9, 7.8, 6.8, 7.2, 8.9, 12.2, 13.9, 16.7, 18.9, 19.4, 20.0, 20.7, 18.9, 16.1, 15.0, 12.2, 11.2, 10.0, 9.4, 9.4, 8.2, 8.2, 7.8, 8.3, 7.2, 6.8, 7.2, 7.8, 8.9, 11.7, 14.4, 18.9, 18.9, 20.7, 20.7, 20.7, 19.4, 17.8, 16.1, 15.7, 13.9, 12.8, 11.7, 11.2, 10.7, 11.8, 9.4, 10.0, 8.9, 10.0, 11.8, 10.0, 12.2, 13.9, 14.4, 15.7, 16.1, 16.1, 16.8, 16.8, 16.1, 14.4, 12.2, 12.2, 9.4, 8.2, 7.2, 6.7, 5.7, 6.2, 6.7, 5.6, 5.6, 5.0, 5.0, 3.9, 9.4, 10.7, 15.0, 16.1, 17.8, 20.0, 20.0, 21.2, 21.1, 18.2, 15.6, 14.4, 11.7, 10.7, 12.2, 11.7])\n"
     ]
    }
   ],
   "source": [
    "def convert_file(file_name='data/LabTempHourly20170101_20170107.csv'):\n",
    "    '''\n",
    "    Takes a csv file and converts each temperature to F or C and saves\n",
    "    both F and C to as list to return.\n",
    "    >>> convert_file(file_name='data/test_file.csv')\n",
    "    ([-40.0, 32.0, 54.0], [-40.0, 0.0, 12.2])\n",
    "    '''\n",
    "    with open(file_name, 'r') as csvfile:\n",
    "        reader = csv.reader(csvfile)\n",
    "        temps_fahr = []\n",
    "        temps_celsius = []\n",
    "        for row in reader:\n",
    "            if row[1] == 'Temp':\n",
    "                continue\n",
    "            temp = row[1]\n",
    "            temp_type = row[2]\n",
    "            out = convert_temp(temp, temp_type)\n",
    "            if temp_type == 'F':\n",
    "                temps_fahr.append(float(temp))\n",
    "                temps_celsius.append(out)\n",
    "            else:\n",
    "                temps_fahr.append(out)\n",
    "                temps_celsius.append(float(temp))\n",
    "    return temps_fahr, temps_celsius\n",
    "\n",
    "print(convert_file())"
   ]
  },
  {
   "cell_type": "markdown",
   "metadata": {
    "collapsed": true,
    "deletable": true,
    "editable": true
   },
   "source": [
    "##### COMMIT YOUR WORK"
   ]
  },
  {
   "cell_type": "markdown",
   "metadata": {
    "deletable": true,
    "editable": true
   },
   "source": [
    "**It turns out that the logger can only log 7 days at a time before dumping the data.**\n",
    "\n",
    "Use glob.glob to find sets of files whose names match a pattern\n",
    "* In Unix, the term “globbing” means “matching a set of files with a pattern”.\n",
    "* The most common patterns are:\n",
    "    * \\* meaning “match zero or more characters”\n",
    "    * ? meaning “match exactly one character”\n",
    "* Provided in Python by the glob library, which provides a function also called glob.\n",
    "* E.g., glob.glob('*.txt') matches all files in the current directory whose names end with .txt.\n",
    "* Result is a (possibly empty) list of character strings."
   ]
  },
  {
   "cell_type": "code",
   "execution_count": 23,
   "metadata": {
    "collapsed": false,
    "deletable": true,
    "editable": true
   },
   "outputs": [
    {
     "name": "stdout",
     "output_type": "stream",
     "text": [
      "all csv files in data directory: ['data\\\\BAD_DATA.csv', 'data\\\\gapminder.csv', 'data\\\\gapminder_52_02.csv', 'data\\\\gapminder_Arg.csv', 'data\\\\LabTempHourly20170101_20170107.csv', 'data\\\\LabTempHourly20170108_201701013.csv', 'data\\\\LabTempHourly20170114_201701020.csv', 'data\\\\LabTempHourly20170121_201701027.csv', 'data\\\\LabTempHourly20170128_201701031.csv']\n"
     ]
    }
   ],
   "source": [
    "import glob\n",
    "print('all csv files in data directory:', glob.glob('data/*.csv'))"
   ]
  },
  {
   "cell_type": "code",
   "execution_count": 24,
   "metadata": {
    "collapsed": false,
    "deletable": true,
    "editable": true
   },
   "outputs": [
    {
     "name": "stdout",
     "output_type": "stream",
     "text": [
      "all PDB files: []\n"
     ]
    }
   ],
   "source": [
    "print('all PDB files:', glob.glob('*.pdb'))"
   ]
  },
  {
   "cell_type": "markdown",
   "metadata": {
    "deletable": true,
    "editable": true
   },
   "source": [
    "Write a function that finds all of the files in a folder using glob and for to process batches of files.\n",
    "* Helps a lot if the files are named and stored systematically and consistently so that simple patterns will find the right data."
   ]
  },
  {
   "cell_type": "code",
   "execution_count": 25,
   "metadata": {
    "collapsed": false,
    "deletable": true,
    "editable": true
   },
   "outputs": [
    {
     "data": {
      "text/plain": [
       "['data\\\\LabTempHourly20170101_20170107.csv',\n",
       " 'data\\\\LabTempHourly20170108_201701013.csv',\n",
       " 'data\\\\LabTempHourly20170114_201701020.csv',\n",
       " 'data\\\\LabTempHourly20170121_201701027.csv',\n",
       " 'data\\\\LabTempHourly20170128_201701031.csv']"
      ]
     },
     "execution_count": 25,
     "metadata": {},
     "output_type": "execute_result"
    }
   ],
   "source": [
    "def find_csvs(dir='data'):\n",
    "    # write your documentation here\n",
    "    # write your function here\n",
    "    return glob.glob(dir+'/Lab*.csv')\n",
    "find_csvs()"
   ]
  },
  {
   "cell_type": "markdown",
   "metadata": {},
   "source": [
    "Are all of those the right files? Maybe we want to exlude one? Adjust the glob statement to exlude unwanted files."
   ]
  },
  {
   "cell_type": "markdown",
   "metadata": {
    "deletable": true,
    "editable": true
   },
   "source": [
    "##### COMMIT YOUR WORK"
   ]
  },
  {
   "cell_type": "markdown",
   "metadata": {
    "deletable": true,
    "editable": true
   },
   "source": [
    "Now bring it together. Use the find_csvs function and the convert_file to get all of the temps for the month of January.\n",
    "\n",
    " _Hint, you can use list.extend(newlist) to add items of a list to another list._"
   ]
  },
  {
   "cell_type": "code",
   "execution_count": 26,
   "metadata": {
    "collapsed": false,
    "deletable": true,
    "editable": true
   },
   "outputs": [
    {
     "name": "stdout",
     "output_type": "stream",
     "text": [
      "([54.0, 53.1, 53.1, 54.0, 55.0, 55.0, 55.0, 53.1, 53.1, 53.1, 45.0, 45.0, 46.0, 46.9, 50.0, 51.1, 50.0, 48.9, 48.9, 48.9, 46.9, 46.0, 45.0, 44.1, 43.0, 43.0, 43.0, 42.1, 42.1, 37.0, 37.9, 39.0, 43.0, 46.0, 48.0, 51.1, 55.0, 55.0, 55.9, 55.9, 55.0, 53.1, 51.1, 50.0, 51.1, 48.0, 48.0, 46.0, 45.0, 44.1, 41.0, 39.9, 41.0, 39.9, 39.9, 39.9, 43.0, 50.0, 53.1, 55.9, 59.0, 63.0, 63.0, 63.0, 62.1, 60.1, 57.9, 57.0, 57.0, 54.0, 53.1, 53.1, 51.1, 50.0, 52.0, 48.9, 48.0, 46.0, 44.1, 45.0, 48.0, 54.0, 57.0, 62.1, 66.0, 66.9, 68.0, 69.1, 66.0, 61.0, 59.0, 54.0, 52.0, 50.0, 48.9, 48.9, 46.9, 46.9, 46.0, 46.9, 45.0, 44.1, 45.0, 46.0, 48.0, 53.1, 57.9, 66.0, 66.0, 69.1, 69.1, 69.1, 66.9, 64.0, 61.0, 60.1, 57.0, 55.0, 53.1, 52.0, 51.1, 53.1, 48.9, 50.0, 48.0, 50.0, 53.1, 50.0, 54.0, 57.0, 57.9, 60.1, 61.0, 61.0, 62.1, 62.1, 61.0, 57.9, 54.0, 54.0, 48.9, 46.9, 45.0, 44.1, 42.1, 43.0, 44.1, 42.1, 42.1, 41.0, 41.0, 39.0, 48.9, 51.1, 59.0, 61.0, 64.0, 68.0, 68.0, 70.0, 70.0, 64.9, 60.1, 57.9, 53.1, 51.1, 54.0, 53.1, 48.9, 48.9, 48.0, 48.0, 46.9, 46.9, 51.1, 51.1, 51.1, 51.1, 48.0, 48.0, 48.9, 48.9, 52.0, 52.0, 55.9, 55.9, 61.0, 61.0, 66.9, 66.9, 70.0, 70.0, 73.9, 73.9, 75.9, 75.9, 80.1, 80.1, 80.1, 80.1, 79.0, 79.0, 73.9, 73.9, 69.1, 69.1, 64.0, 64.0, 59.0, 59.0, 55.9, 55.9, 55.0, 55.0, 57.0, 57.0, 57.0, 55.0, 55.9, 55.0, 55.9, 53.1, 54.0, 55.0, 60.1, 63.0, 66.0, 66.9, 72.0, 77.0, 73.9, 72.0, 69.1, 68.0, 64.9, 62.1, 60.1, 57.0, 55.9, 51.1, 52.0, 50.0, 48.9, 48.0, 48.0, 46.9, 46.9, 46.9, 51.1, 57.9, 63.0, 66.9, 68.0, 69.1, 70.0, 71.1, 69.1, 66.0, 62.1, 57.9, 54.0, 53.1, 52.0, 51.1, 50.0, 48.0, 48.0, 46.0, 46.9, 45.0, 45.0, 45.0, 50.0, 55.0, 61.0, 66.0, 66.9, 69.1, 70.0, 70.0, 66.9, 64.9, 61.0, 57.9, 53.1, 50.0, 48.9, 46.0, 46.0, 45.0, 44.1, 43.0, 42.1, 43.0, 44.1, 43.0, 48.0, 53.1, 57.0, 64.9, 66.9, 70.0, 71.1, 72.0, 72.0, 66.9, 62.1, 63.0, 57.9, 48.9, 48.0, 45.0, 43.0, 43.0, 43.0, 46.0, 44.1, 43.0, 44.1, 50.0, 54.0, 61.0, 63.0, 68.0, 69.1, 68.0, 66.0, 64.9, 61.0, 60.1, 57.9, 57.0, 55.9, 55.0, 55.0, 55.9, 50.0, 50.0, 50.0, 48.9, 48.9, 48.9, 48.0, 48.0, 48.0, 48.9, 52.0, 53.1, 55.0, 55.9, 57.0, 57.0, 55.9, 57.0, 54.0, 53.1, 50.0, 48.0, 48.0, 46.9, 46.0, 44.1, 44.1, 42.1, 42.1, 41.0, 41.0, 39.9, 39.9, 43.0, 46.9, 53.1, 57.0, 60.1, 63.0, 63.0, 63.0, 61.0, 57.0, 55.0, 54.0, 54.0, 54.0, 53.1, 51.1, 48.9, 46.9, 45.0, 44.1, 44.1, 42.1, 42.1, 42.1, 46.0, 51.1, 55.0, 57.9, 61.0, 62.1, 62.1, 62.1, 61.0, 59.0, 55.9, 55.0, 51.1, 50.0, 46.9, 46.0, 46.0, 43.0, 44.1, 44.1, 44.1, 44.1, 45.0, 46.0, 48.9, 48.9, 52.0, 54.0, 55.0, 57.0, 57.9, 59.0, 57.9, 55.9, 55.9, 57.0, 55.0, 55.0, 54.0, 54.0, 52.0, 51.1, 50.0, 51.1, 52.0, 51.1, 51.1, 50.0, 51.1, 53.1, 54.0, 55.9, 55.9, 55.9, 55.0, 55.0, 53.1, 52.0, 52.0, 52.0, 52.0, 52.0, 48.9, 50.0, 51.1, 48.0, 48.9, 50.0, 50.0, 50.0, 50.0, 48.9, 50.0, 52.0, 52.0, 53.1, 54.0, 57.0, 55.0, 55.0, 55.0, 52.0, 50.0, 48.0, 44.6, 44.1, 42.1, 41.0, 39.9, 39.9, 39.9, 37.9, 39.9, 41.0, 41.0, 39.0, 43.0, 46.9, 52.0, 54.0, 57.0, 59.0, 61.0, 64.0, 63.0, 61.0, 57.0, 54.0, 51.1, 48.9, 48.0, 46.9, 46.9, 46.9, 45.0, 46.9, 48.0, 48.9, 51.1, 51.1, 57.0, 61.0, 64.9, 64.9, 66.0, 68.0, 68.0, 66.9, 63.0, 61.0, 59.0, 57.0, 55.0, 53.1, 48.9, 46.0, 45.0, 45.0, 45.0, 45.0, 42.1, 42.1, 41.0, 39.9, 44.1, 46.0, 48.0, 50.0, 50.0, 51.1, 54.0, 53.1, 51.8, 48.9, 46.9, 45.0, 44.1, 42.1, 41.0, 39.9, 37.9, 37.0, 35.1, 34.0, 34.0, 32.0, 32.0, 33.1, 36.0, 41.0, 46.9, 48.9, 50.0, 51.1, 52.0, 52.0, 51.1, 48.9, 46.9, 45.0, 44.1, 39.9, 37.9, 36.0, 35.1, 33.1, 33.1, 32.0, 30.9, 30.9, 30.9, 30.9, 35.1, 39.9, 46.0, 50.0, 51.1, 53.1, 55.0, 55.9, 54.0, 51.1, 48.9, 46.9, 42.1, 41.0, 39.9, 39.0, 37.9, 36.0, 36.0, 35.1, 33.1, 32.0, 30.9, 30.0, 36.0, 39.9, 45.0, 48.9, 51.1, 53.1, 55.0, 55.0, 55.0, 53.1, 50.0, 48.9, 44.1, 45.0, 43.0, 44.1, 37.9, 36.0, 34.0, 33.1, 30.9, 32.0, 30.0, 30.9, 37.9, 44.1, 50.0, 52.0, 54.0, 57.9, 59.0, 61.0, 61.0, 57.0, 52.0, 48.0, 46.9, 44.1, 41.0, 39.0, 37.9, 37.0, 37.0, 35.1, 34.0, 35.1, 32.0, 33.1, 48.0, 57.9, 64.0, 66.0, 66.9, 69.1, 71.1, 71.1, 70.0, 66.0, 61.0, 57.9, 53.1, 52.0, 54.0, 54.0, 54.0, 54.0, 55.0, 55.9, 51.1, 51.1, 42.1, 48.0, 48.9, 61.0, 64.9, 68.0, 71.1, 72.0, 73.0, 75.0, 75.0, 69.1, 63.0, 57.0, 57.0, 51.1, 46.9, 45.0, 45.0, 43.0, 43.0, 43.0, 43.0, 42.1, 43.0, 43.0, 48.9, 57.0, 62.1, 66.9, 71.1, 73.9, 73.9, 73.9, 73.0, 69.1, 64.0, 59.0, 54.0, 52.0, 48.9, 46.9], [12.2, 11.7, 11.7, 12.2, 12.8, 12.8, 12.8, 11.7, 11.7, 11.8, 7.2, 7.2, 7.8, 8.2, 10.0, 10.6, 10.0, 9.4, 9.4, 9.4, 8.3, 7.8, 7.2, 6.8, 6.2, 6.2, 6.1, 5.6, 5.7, 2.8, 3.3, 3.9, 6.1, 7.8, 8.9, 10.6, 12.8, 12.8, 13.2, 13.2, 12.8, 11.7, 10.6, 10.0, 10.7, 8.9, 8.9, 7.8, 7.2, 6.8, 5.0, 4.4, 5.0, 4.4, 4.4, 4.4, 6.2, 10.0, 11.7, 13.2, 15.0, 17.2, 17.2, 17.2, 16.7, 15.7, 14.4, 13.9, 13.9, 12.2, 11.8, 11.8, 10.6, 10.0, 11.1, 9.4, 8.9, 7.8, 6.8, 7.2, 8.9, 12.2, 13.9, 16.7, 18.9, 19.4, 20.0, 20.7, 18.9, 16.1, 15.0, 12.2, 11.2, 10.0, 9.4, 9.4, 8.2, 8.2, 7.8, 8.3, 7.2, 6.8, 7.2, 7.8, 8.9, 11.7, 14.4, 18.9, 18.9, 20.7, 20.7, 20.7, 19.4, 17.8, 16.1, 15.7, 13.9, 12.8, 11.7, 11.2, 10.7, 11.8, 9.4, 10.0, 8.9, 10.0, 11.8, 10.0, 12.2, 13.9, 14.4, 15.7, 16.1, 16.1, 16.8, 16.8, 16.1, 14.4, 12.2, 12.2, 9.4, 8.2, 7.2, 6.7, 5.7, 6.2, 6.7, 5.6, 5.6, 5.0, 5.0, 3.9, 9.4, 10.7, 15.0, 16.1, 17.8, 20.0, 20.0, 21.2, 21.1, 18.2, 15.6, 14.4, 11.7, 10.7, 12.2, 11.7, 9.4, 9.4, 8.9, 8.9, 8.3, 8.2, 10.7, 10.7, 10.7, 10.7, 8.9, 8.9, 9.4, 9.4, 11.1, 11.2, 13.2, 13.2, 16.1, 16.2, 19.4, 19.4, 21.1, 21.2, 23.3, 23.2, 24.4, 24.4, 26.7, 26.7, 26.7, 26.7, 26.1, 26.2, 23.2, 23.3, 20.7, 20.6, 17.8, 17.8, 15.0, 15.0, 13.3, 13.2, 12.8, 12.8, 13.9, 13.9, 13.9, 12.8, 13.3, 12.8, 13.3, 11.8, 12.2, 12.8, 15.6, 17.2, 18.9, 19.4, 22.2, 25.0, 23.2, 22.2, 20.7, 20.0, 18.2, 16.7, 15.6, 13.9, 13.3, 10.7, 11.2, 10.0, 9.4, 8.9, 8.9, 8.3, 8.2, 8.3, 10.7, 14.4, 17.2, 19.4, 20.0, 20.7, 21.2, 21.7, 20.6, 18.9, 16.8, 14.4, 12.2, 11.8, 11.1, 10.6, 10.0, 8.9, 8.9, 7.8, 8.2, 7.2, 7.2, 7.2, 10.0, 12.8, 16.2, 18.9, 19.4, 20.7, 21.2, 21.1, 19.4, 18.3, 16.2, 14.4, 11.8, 10.0, 9.4, 7.8, 7.8, 7.2, 6.8, 6.2, 5.7, 6.1, 6.7, 6.1, 8.9, 11.7, 13.9, 18.2, 19.4, 21.1, 21.8, 22.2, 22.2, 19.4, 16.7, 17.2, 14.4, 9.4, 8.9, 7.2, 6.2, 6.2, 6.2, 7.8, 6.8, 6.2, 6.7, 10.0, 12.2, 16.2, 17.2, 20.0, 20.7, 20.0, 18.9, 18.2, 16.2, 15.7, 14.4, 13.9, 13.3, 12.8, 12.8, 13.2, 10.0, 10.0, 10.0, 9.4, 9.4, 9.4, 8.9, 8.9, 8.9, 9.4, 11.1, 11.8, 12.8, 13.3, 13.9, 13.9, 13.3, 13.9, 12.2, 11.8, 10.0, 8.9, 8.9, 8.2, 7.8, 6.7, 6.7, 5.7, 5.7, 5.0, 5.0, 4.4, 4.4, 6.1, 8.2, 11.8, 13.9, 15.6, 17.2, 17.2, 17.2, 16.2, 13.9, 12.8, 12.2, 12.2, 12.2, 11.8, 10.7, 9.4, 8.2, 7.2, 6.7, 6.7, 5.7, 5.6, 5.7, 7.8, 10.7, 12.8, 14.4, 16.2, 16.7, 16.7, 16.8, 16.2, 15.0, 13.3, 12.8, 10.7, 10.0, 8.2, 7.8, 7.8, 6.1, 6.8, 6.8, 6.8, 6.8, 7.2, 7.8, 9.4, 9.4, 11.1, 12.2, 12.8, 13.9, 14.4, 15.0, 14.4, 13.2, 13.2, 13.9, 12.8, 12.8, 12.2, 12.2, 11.1, 10.6, 10.0, 10.6, 11.2, 10.6, 10.7, 10.0, 10.6, 11.8, 12.2, 13.3, 13.3, 13.3, 12.8, 12.8, 11.8, 11.2, 11.2, 11.1, 11.2, 11.2, 9.4, 10.0, 10.7, 8.9, 9.4, 10.0, 10.0, 10.0, 10.0, 9.4, 10.0, 11.1, 11.2, 11.8, 12.2, 13.9, 12.8, 12.8, 12.8, 11.1, 10.0, 8.9, 7.0, 6.7, 5.7, 5.0, 4.4, 4.4, 4.4, 3.2, 4.4, 5.0, 5.0, 3.9, 6.1, 8.2, 11.1, 12.2, 13.9, 15.0, 16.1, 17.8, 17.2, 16.1, 13.9, 12.2, 10.7, 9.4, 8.9, 8.3, 8.2, 8.2, 7.2, 8.2, 8.9, 9.4, 10.6, 10.6, 13.9, 16.2, 18.3, 18.2, 18.9, 20.0, 20.0, 19.4, 17.2, 16.1, 15.0, 13.9, 12.8, 11.7, 9.4, 7.8, 7.2, 7.2, 7.2, 7.2, 5.7, 5.7, 5.0, 4.4, 6.7, 7.8, 8.9, 10.0, 10.0, 10.7, 12.2, 11.8, 11.0, 9.4, 8.2, 7.2, 6.8, 5.7, 5.0, 4.4, 3.2, 2.8, 1.7, 1.2, 1.1, 0.0, 0.0, 0.7, 2.2, 5.0, 8.2, 9.4, 10.0, 10.7, 11.1, 11.1, 10.7, 9.4, 8.3, 7.2, 6.8, 4.4, 3.3, 2.2, 1.8, 0.7, 0.6, -0.0, -0.6, -0.6, -0.6, -0.6, 1.8, 4.4, 7.8, 10.0, 10.6, 11.8, 12.8, 13.2, 12.2, 10.6, 9.4, 8.2, 5.6, 5.0, 4.4, 3.9, 3.3, 2.2, 2.2, 1.8, 0.7, 0.0, -0.6, -1.1, 2.2, 4.4, 7.2, 9.4, 10.7, 11.8, 12.8, 12.8, 12.8, 11.7, 10.0, 9.4, 6.7, 7.2, 6.1, 6.8, 3.2, 2.2, 1.1, 0.7, -0.6, -0.0, -1.1, -0.6, 3.3, 6.7, 10.0, 11.1, 12.2, 14.4, 15.0, 16.2, 16.1, 13.9, 11.1, 8.9, 8.2, 6.8, 5.0, 3.9, 3.3, 2.8, 2.8, 1.8, 1.1, 1.7, 0.0, 0.6, 8.9, 14.4, 17.8, 18.9, 19.4, 20.7, 21.7, 21.8, 21.1, 18.9, 16.1, 14.4, 11.8, 11.1, 12.2, 12.2, 12.2, 12.2, 12.8, 13.3, 10.6, 10.6, 5.6, 8.9, 9.4, 16.1, 18.2, 20.0, 21.7, 22.2, 22.8, 23.9, 23.9, 20.7, 17.2, 13.9, 13.9, 10.6, 8.3, 7.2, 7.2, 6.2, 6.1, 6.1, 6.1, 5.6, 6.2, 6.2, 9.4, 13.9, 16.8, 19.4, 21.7, 23.2, 23.2, 23.3, 22.8, 20.6, 17.8, 15.0, 12.2, 11.2, 9.4, 8.3])\n"
     ]
    }
   ],
   "source": [
    "def month_temps(dir):\n",
    "    '''\n",
    "    Finds all csvs in directory dir\n",
    "    converts all of the temperatures in the file and\n",
    "    returns a list of temperatures for the month in\n",
    "    Fahrenheit and Celsius.\n",
    "    >>> month_temps('data')\n",
    "    ([-40.0, 32.0, 54.0], [-40.0, 0.0, 12.2])\n",
    "    '''\n",
    "    month_fahr = []\n",
    "    month_cels = []\n",
    "    all_csvs = find_csvs(dir)\n",
    "    for csv in all_csvs:\n",
    "        fahr, cels = convert_file(csv)\n",
    "        month_fahr.extend(fahr)\n",
    "        month_cels.extend(cels)\n",
    "    return month_fahr, month_cels\n",
    "\n",
    "print(month_temps('data'))"
   ]
  },
  {
   "cell_type": "markdown",
   "metadata": {
    "deletable": true,
    "editable": true
   },
   "source": [
    "## Let's plot our temperatures!"
   ]
  },
  {
   "cell_type": "markdown",
   "metadata": {
    "deletable": true,
    "editable": true
   },
   "source": [
    "### matplotlib is the most widely used scientific plotting library in Python.\n",
    "* Commonly use a sub-library called matplotlib.pyplot.\n",
    "* The Jupyter Notebook will render plots inline if we ask it to using a “magic” command."
   ]
  },
  {
   "cell_type": "code",
   "execution_count": 27,
   "metadata": {
    "collapsed": true,
    "deletable": true,
    "editable": true
   },
   "outputs": [],
   "source": [
    "%matplotlib inline\n",
    "import matplotlib.pyplot as plt"
   ]
  },
  {
   "cell_type": "markdown",
   "metadata": {
    "deletable": true,
    "editable": true
   },
   "source": [
    "Simple plots are then (fairly) simple to create."
   ]
  },
  {
   "cell_type": "code",
   "execution_count": 28,
   "metadata": {
    "collapsed": false,
    "deletable": true,
    "editable": true,
    "scrolled": true
   },
   "outputs": [
    {
     "data": {
      "text/plain": [
       "<matplotlib.legend.Legend at 0x85adc88>"
      ]
     },
     "execution_count": 28,
     "metadata": {},
     "output_type": "execute_result"
    },
    {
     "data": {
      "image/png": "[encoded data removed]",
      "text/plain": [
       "<matplotlib.figure.Figure at 0x85add30>"
      ]
     },
     "metadata": {},
     "output_type": "display_data"
    }
   ],
   "source": [
    "x = [1, 2, 3, 4, 5]\n",
    "y = [2, 4, 6, 8, 10]\n",
    "\n",
    "plt.plot(x, y)\n",
    "plt.xlabel('Numbers')\n",
    "plt.ylabel('Doubles')\n",
    "plt.legend(['Line'])"
   ]
  },
  {
   "cell_type": "markdown",
   "metadata": {
    "deletable": true,
    "editable": true
   },
   "source": [
    "Write the last function to plot the temperature in Fahrenheit or Celsius.\n",
    "\n",
    "_Hint: Use list(range(len(monthtemp)) for the x-axis_"
   ]
  },
  {
   "cell_type": "code",
   "execution_count": 29,
   "metadata": {
    "collapsed": false,
    "deletable": true,
    "editable": true
   },
   "outputs": [
    {
     "data": {
      "image/png": "[encoded data removed]",
      "text/plain": [
       "<matplotlib.figure.Figure at 0x8137e48>"
      ]
     },
     "metadata": {},
     "output_type": "display_data"
    }
   ],
   "source": [
    "def plot_month():\n",
    "    month_fahr, month_cels = month_temps('data')\n",
    "    plt.plot(list(range(len(month_fahr))), month_fahr)\n",
    "    plt.xlabel('Time (h)')\n",
    "    plt.ylabel('Temperature')\n",
    "    plt.plot(list(range(len(month_cels))), month_cels)\n",
    "    plt.xlabel('Time (h)')\n",
    "    plt.legend(['Fahrenheit', 'Celsius'])\n",
    "plot_month()"
   ]
  },
  {
   "cell_type": "markdown",
   "metadata": {
    "deletable": true,
    "editable": true
   },
   "source": [
    "## Final Questions\n",
    "1. Is the experiment ruined? (If the temperature in the lab fell below -5 degrees Celsius all of the data is ruined.)\n",
    "2. Is the experiment ruined, because of the material that can not have a temperature greater than 80 degrees Fahrenheit?\n",
    "#### Extra\n",
    "3. Is the experiment ruined according to the first read of material? (If the temperature in the lab fell below 285 degrees Kelvin all of the data is ruined.)\n",
    "4. How could you adjust the above convert_file function to get the date information?\n",
    "    * Can you plot temperature vs datetime?"
   ]
  },
  {
   "cell_type": "code",
   "execution_count": 30,
   "metadata": {
    "collapsed": true,
    "deletable": true,
    "editable": true
   },
   "outputs": [],
   "source": [
    "month_fahr, month_cels = month_temps('data')"
   ]
  },
  {
   "cell_type": "code",
   "execution_count": 31,
   "metadata": {
    "collapsed": false
   },
   "outputs": [
    {
     "name": "stdout",
     "output_type": "stream",
     "text": [
      "Is: -1.1 less than -5 degrees Celsius?\n"
     ]
    }
   ],
   "source": [
    "# 1. Is the experiment ruined? (If the temperature in the lab fell below -5 degrees Celsius all of the data is ruined.)\n",
    "print(\"Is: %s less than -5 degrees Celsius?\" % min(month_cels))"
   ]
  },
  {
   "cell_type": "code",
   "execution_count": 32,
   "metadata": {
    "collapsed": false
   },
   "outputs": [
    {
     "name": "stdout",
     "output_type": "stream",
     "text": [
      "Is: 80.1 greater than 80 degrees Fahrenheit?\n"
     ]
    }
   ],
   "source": [
    "# 2. Is the experiment ruined, because of the material that can not have a temperature greater than 80 degrees\n",
    "print(\"Is: %s greater than 80 degrees Fahrenheit?\" % max(month_fahr))"
   ]
  },
  {
   "cell_type": "code",
   "execution_count": 33,
   "metadata": {
    "collapsed": false,
    "scrolled": true
   },
   "outputs": [
    {
     "name": "stdout",
     "output_type": "stream",
     "text": [
      "[285.4, 284.9, 284.9, 285.4, 285.9, 285.9, 285.9, 284.9, 284.9, 284.9, 280.4, 280.4, 280.9, 281.4, 283.1, 283.8, 283.1, 282.5, 282.5, 282.5, 281.4, 280.9, 280.4, 279.9, 279.3, 279.3, 279.3, 278.8, 278.8, 275.9, 276.4, 277.0, 279.3, 280.9, 282.0, 283.8, 285.9, 285.9, 286.4, 286.4, 285.9, 284.9, 283.8, 283.1, 283.8, 282.0, 282.0, 280.9, 280.4, 279.9, 278.1, 277.5, 278.1, 277.5, 277.5, 277.5, 279.3, 283.1, 284.9, 286.4, 288.1, 290.4, 290.4, 290.4, 289.9, 288.8, 287.5, 287.0, 287.0, 285.4, 284.9, 284.9, 283.8, 283.1, 284.3, 282.5, 282.0, 280.9, 279.9, 280.4, 282.0, 285.4, 287.0, 289.9, 292.0, 292.5, 293.1, 293.8, 292.0, 289.3, 288.1, 285.4, 284.3, 283.1, 282.5, 282.5, 281.4, 281.4, 280.9, 281.4, 280.4, 279.9, 280.4, 280.9, 282.0, 284.9, 287.5, 292.0, 292.0, 293.8, 293.8, 293.8, 292.5, 290.9, 289.3, 288.8, 287.0, 285.9, 284.9, 284.3, 283.8, 284.9, 282.5, 283.1, 282.0, 283.1, 284.9, 283.1, 285.4, 287.0, 287.5, 288.8, 289.3, 289.3, 289.9, 289.9, 289.3, 287.5, 285.4, 285.4, 282.5, 281.4, 280.4, 279.9, 278.8, 279.3, 279.9, 278.8, 278.8, 278.1, 278.1, 277.0, 282.5, 283.8, 288.1, 289.3, 290.9, 293.1, 293.1, 294.3, 294.3, 291.4, 288.8, 287.5, 284.9, 283.8, 285.4, 284.9]\n"
     ]
    }
   ],
   "source": [
    "def convert_file_K(file_name='data/LabTempHourly20170101_20170107.csv'):\n",
    "    '''\n",
    "    Takes a csv file and converts each temperature to K and saves\n",
    "    K as list to return.\n",
    "    >>> convert_file(file_name='data/test_file.csv')\n",
    "    ([-40.0, 32.0, 54.0])\n",
    "    '''\n",
    "    with open(file_name, 'r') as csvfile:\n",
    "        reader = csv.reader(csvfile)\n",
    "        temps_K = []\n",
    "        for row in reader:\n",
    "            if row[1] == 'Temp':\n",
    "                continue\n",
    "            temp = row[1]\n",
    "            temp_type = row[2]\n",
    "            if temp_type != 'F':\n",
    "                # convert Celsius to Fahrenheit to use for the farhr_to_kelvin\n",
    "                temp = convert_temp(temp, temp_type)\n",
    "            out = fahr_to_kelvin(temp)\n",
    "            temps_K.append(out)\n",
    "    return temps_K\n",
    "\n",
    "print(convert_file_K('data/LabTempHourly20170101_20170107.csv'))"
   ]
  },
  {
   "cell_type": "code",
   "execution_count": 34,
   "metadata": {
    "collapsed": false
   },
   "outputs": [
    {
     "name": "stdout",
     "output_type": "stream",
     "text": [
      "([54.0, 53.1, 53.1, 54.0, 55.0, 55.0, 55.0, 53.1, 53.1, 53.1, 45.0, 45.0, 46.0, 46.9, 50.0, 51.1, 50.0, 48.9, 48.9, 48.9, 46.9, 46.0, 45.0, 44.1, 43.0, 43.0, 43.0, 42.1, 42.1, 37.0, 37.9, 39.0, 43.0, 46.0, 48.0, 51.1, 55.0, 55.0, 55.9, 55.9, 55.0, 53.1, 51.1, 50.0, 51.1, 48.0, 48.0, 46.0, 45.0, 44.1, 41.0, 39.9, 41.0, 39.9, 39.9, 39.9, 43.0, 50.0, 53.1, 55.9, 59.0, 63.0, 63.0, 63.0, 62.1, 60.1, 57.9, 57.0, 57.0, 54.0, 53.1, 53.1, 51.1, 50.0, 52.0, 48.9, 48.0, 46.0, 44.1, 45.0, 48.0, 54.0, 57.0, 62.1, 66.0, 66.9, 68.0, 69.1, 66.0, 61.0, 59.0, 54.0, 52.0, 50.0, 48.9, 48.9, 46.9, 46.9, 46.0, 46.9, 45.0, 44.1, 45.0, 46.0, 48.0, 53.1, 57.9, 66.0, 66.0, 69.1, 69.1, 69.1, 66.9, 64.0, 61.0, 60.1, 57.0, 55.0, 53.1, 52.0, 51.1, 53.1, 48.9, 50.0, 48.0, 50.0, 53.1, 50.0, 54.0, 57.0, 57.9, 60.1, 61.0, 61.0, 62.1, 62.1, 61.0, 57.9, 54.0, 54.0, 48.9, 46.9, 45.0, 44.1, 42.1, 43.0, 44.1, 42.1, 42.1, 41.0, 41.0, 39.0, 48.9, 51.1, 59.0, 61.0, 64.0, 68.0, 68.0, 70.0, 70.0, 64.9, 60.1, 57.9, 53.1, 51.1, 54.0, 53.1, 48.9, 48.9, 48.0, 48.0, 46.9, 46.9, 51.1, 51.1, 51.1, 51.1, 48.0, 48.0, 48.9, 48.9, 52.0, 52.0, 55.9, 55.9, 61.0, 61.0, 66.9, 66.9, 70.0, 70.0, 73.9, 73.9, 75.9, 75.9, 80.1, 80.1, 80.1, 80.1, 79.0, 79.0, 73.9, 73.9, 69.1, 69.1, 64.0, 64.0, 59.0, 59.0, 55.9, 55.9, 55.0, 55.0, 57.0, 57.0, 57.0, 55.0, 55.9, 55.0, 55.9, 53.1, 54.0, 55.0, 60.1, 63.0, 66.0, 66.9, 72.0, 77.0, 73.9, 72.0, 69.1, 68.0, 64.9, 62.1, 60.1, 57.0, 55.9, 51.1, 52.0, 50.0, 48.9, 48.0, 48.0, 46.9, 46.9, 46.9, 51.1, 57.9, 63.0, 66.9, 68.0, 69.1, 70.0, 71.1, 69.1, 66.0, 62.1, 57.9, 54.0, 53.1, 52.0, 51.1, 50.0, 48.0, 48.0, 46.0, 46.9, 45.0, 45.0, 45.0, 50.0, 55.0, 61.0, 66.0, 66.9, 69.1, 70.0, 70.0, 66.9, 64.9, 61.0, 57.9, 53.1, 50.0, 48.9, 46.0, 46.0, 45.0, 44.1, 43.0, 42.1, 43.0, 44.1, 43.0, 48.0, 53.1, 57.0, 64.9, 66.9, 70.0, 71.1, 72.0, 72.0, 66.9, 62.1, 63.0, 57.9, 48.9, 48.0, 45.0, 43.0, 43.0, 43.0, 46.0, 44.1, 43.0, 44.1, 50.0, 54.0, 61.0, 63.0, 68.0, 69.1, 68.0, 66.0, 64.9, 61.0, 60.1, 57.9, 57.0, 55.9, 55.0, 55.0, 55.9, 50.0, 50.0, 50.0, 48.9, 48.9, 48.9, 48.0, 48.0, 48.0, 48.9, 52.0, 53.1, 55.0, 55.9, 57.0, 57.0, 55.9, 57.0, 54.0, 53.1, 50.0, 48.0, 48.0, 46.9, 46.0, 44.1, 44.1, 42.1, 42.1, 41.0, 41.0, 39.9, 39.9, 43.0, 46.9, 53.1, 57.0, 60.1, 63.0, 63.0, 63.0, 61.0, 57.0, 55.0, 54.0, 54.0, 54.0, 53.1, 51.1, 48.9, 46.9, 45.0, 44.1, 44.1, 42.1, 42.1, 42.1, 46.0, 51.1, 55.0, 57.9, 61.0, 62.1, 62.1, 62.1, 61.0, 59.0, 55.9, 55.0, 51.1, 50.0, 46.9, 46.0, 46.0, 43.0, 44.1, 44.1, 44.1, 44.1, 45.0, 46.0, 48.9, 48.9, 52.0, 54.0, 55.0, 57.0, 57.9, 59.0, 57.9, 55.9, 55.9, 57.0, 55.0, 55.0, 54.0, 54.0, 52.0, 51.1, 50.0, 51.1, 52.0, 51.1, 51.1, 50.0, 51.1, 53.1, 54.0, 55.9, 55.9, 55.9, 55.0, 55.0, 53.1, 52.0, 52.0, 52.0, 52.0, 52.0, 48.9, 50.0, 51.1, 48.0, 48.9, 50.0, 50.0, 50.0, 50.0, 48.9, 50.0, 52.0, 52.0, 53.1, 54.0, 57.0, 55.0, 55.0, 55.0, 52.0, 50.0, 48.0, 44.6, 44.1, 42.1, 41.0, 39.9, 39.9, 39.9, 37.9, 39.9, 41.0, 41.0, 39.0, 43.0, 46.9, 52.0, 54.0, 57.0, 59.0, 61.0, 64.0, 63.0, 61.0, 57.0, 54.0, 51.1, 48.9, 48.0, 46.9, 46.9, 46.9, 45.0, 46.9, 48.0, 48.9, 51.1, 51.1, 57.0, 61.0, 64.9, 64.9, 66.0, 68.0, 68.0, 66.9, 63.0, 61.0, 59.0, 57.0, 55.0, 53.1, 48.9, 46.0, 45.0, 45.0, 45.0, 45.0, 42.1, 42.1, 41.0, 39.9, 44.1, 46.0, 48.0, 50.0, 50.0, 51.1, 54.0, 53.1, 51.8, 48.9, 46.9, 45.0, 44.1, 42.1, 41.0, 39.9, 37.9, 37.0, 35.1, 34.0, 34.0, 32.0, 32.0, 33.1, 36.0, 41.0, 46.9, 48.9, 50.0, 51.1, 52.0, 52.0, 51.1, 48.9, 46.9, 45.0, 44.1, 39.9, 37.9, 36.0, 35.1, 33.1, 33.1, 32.0, 30.9, 30.9, 30.9, 30.9, 35.1, 39.9, 46.0, 50.0, 51.1, 53.1, 55.0, 55.9, 54.0, 51.1, 48.9, 46.9, 42.1, 41.0, 39.9, 39.0, 37.9, 36.0, 36.0, 35.1, 33.1, 32.0, 30.9, 30.0, 36.0, 39.9, 45.0, 48.9, 51.1, 53.1, 55.0, 55.0, 55.0, 53.1, 50.0, 48.9, 44.1, 45.0, 43.0, 44.1, 37.9, 36.0, 34.0, 33.1, 30.9, 32.0, 30.0, 30.9, 37.9, 44.1, 50.0, 52.0, 54.0, 57.9, 59.0, 61.0, 61.0, 57.0, 52.0, 48.0, 46.9, 44.1, 41.0, 39.0, 37.9, 37.0, 37.0, 35.1, 34.0, 35.1, 32.0, 33.1, 48.0, 57.9, 64.0, 66.0, 66.9, 69.1, 71.1, 71.1, 70.0, 66.0, 61.0, 57.9, 53.1, 52.0, 54.0, 54.0, 54.0, 54.0, 55.0, 55.9, 51.1, 51.1, 42.1, 48.0, 48.9, 61.0, 64.9, 68.0, 71.1, 72.0, 73.0, 75.0, 75.0, 69.1, 63.0, 57.0, 57.0, 51.1, 46.9, 45.0, 45.0, 43.0, 43.0, 43.0, 43.0, 42.1, 43.0, 43.0, 48.9, 57.0, 62.1, 66.9, 71.1, 73.9, 73.9, 73.9, 73.0, 69.1, 64.0, 59.0, 54.0, 52.0, 48.9, 46.9], [12.2, 11.7, 11.7, 12.2, 12.8, 12.8, 12.8, 11.7, 11.7, 11.8, 7.2, 7.2, 7.8, 8.2, 10.0, 10.6, 10.0, 9.4, 9.4, 9.4, 8.3, 7.8, 7.2, 6.8, 6.2, 6.2, 6.1, 5.6, 5.7, 2.8, 3.3, 3.9, 6.1, 7.8, 8.9, 10.6, 12.8, 12.8, 13.2, 13.2, 12.8, 11.7, 10.6, 10.0, 10.7, 8.9, 8.9, 7.8, 7.2, 6.8, 5.0, 4.4, 5.0, 4.4, 4.4, 4.4, 6.2, 10.0, 11.7, 13.2, 15.0, 17.2, 17.2, 17.2, 16.7, 15.7, 14.4, 13.9, 13.9, 12.2, 11.8, 11.8, 10.6, 10.0, 11.1, 9.4, 8.9, 7.8, 6.8, 7.2, 8.9, 12.2, 13.9, 16.7, 18.9, 19.4, 20.0, 20.7, 18.9, 16.1, 15.0, 12.2, 11.2, 10.0, 9.4, 9.4, 8.2, 8.2, 7.8, 8.3, 7.2, 6.8, 7.2, 7.8, 8.9, 11.7, 14.4, 18.9, 18.9, 20.7, 20.7, 20.7, 19.4, 17.8, 16.1, 15.7, 13.9, 12.8, 11.7, 11.2, 10.7, 11.8, 9.4, 10.0, 8.9, 10.0, 11.8, 10.0, 12.2, 13.9, 14.4, 15.7, 16.1, 16.1, 16.8, 16.8, 16.1, 14.4, 12.2, 12.2, 9.4, 8.2, 7.2, 6.7, 5.7, 6.2, 6.7, 5.6, 5.6, 5.0, 5.0, 3.9, 9.4, 10.7, 15.0, 16.1, 17.8, 20.0, 20.0, 21.2, 21.1, 18.2, 15.6, 14.4, 11.7, 10.7, 12.2, 11.7, 9.4, 9.4, 8.9, 8.9, 8.3, 8.2, 10.7, 10.7, 10.7, 10.7, 8.9, 8.9, 9.4, 9.4, 11.1, 11.2, 13.2, 13.2, 16.1, 16.2, 19.4, 19.4, 21.1, 21.2, 23.3, 23.2, 24.4, 24.4, 26.7, 26.7, 26.7, 26.7, 26.1, 26.2, 23.2, 23.3, 20.7, 20.6, 17.8, 17.8, 15.0, 15.0, 13.3, 13.2, 12.8, 12.8, 13.9, 13.9, 13.9, 12.8, 13.3, 12.8, 13.3, 11.8, 12.2, 12.8, 15.6, 17.2, 18.9, 19.4, 22.2, 25.0, 23.2, 22.2, 20.7, 20.0, 18.2, 16.7, 15.6, 13.9, 13.3, 10.7, 11.2, 10.0, 9.4, 8.9, 8.9, 8.3, 8.2, 8.3, 10.7, 14.4, 17.2, 19.4, 20.0, 20.7, 21.2, 21.7, 20.6, 18.9, 16.8, 14.4, 12.2, 11.8, 11.1, 10.6, 10.0, 8.9, 8.9, 7.8, 8.2, 7.2, 7.2, 7.2, 10.0, 12.8, 16.2, 18.9, 19.4, 20.7, 21.2, 21.1, 19.4, 18.3, 16.2, 14.4, 11.8, 10.0, 9.4, 7.8, 7.8, 7.2, 6.8, 6.2, 5.7, 6.1, 6.7, 6.1, 8.9, 11.7, 13.9, 18.2, 19.4, 21.1, 21.8, 22.2, 22.2, 19.4, 16.7, 17.2, 14.4, 9.4, 8.9, 7.2, 6.2, 6.2, 6.2, 7.8, 6.8, 6.2, 6.7, 10.0, 12.2, 16.2, 17.2, 20.0, 20.7, 20.0, 18.9, 18.2, 16.2, 15.7, 14.4, 13.9, 13.3, 12.8, 12.8, 13.2, 10.0, 10.0, 10.0, 9.4, 9.4, 9.4, 8.9, 8.9, 8.9, 9.4, 11.1, 11.8, 12.8, 13.3, 13.9, 13.9, 13.3, 13.9, 12.2, 11.8, 10.0, 8.9, 8.9, 8.2, 7.8, 6.7, 6.7, 5.7, 5.7, 5.0, 5.0, 4.4, 4.4, 6.1, 8.2, 11.8, 13.9, 15.6, 17.2, 17.2, 17.2, 16.2, 13.9, 12.8, 12.2, 12.2, 12.2, 11.8, 10.7, 9.4, 8.2, 7.2, 6.7, 6.7, 5.7, 5.6, 5.7, 7.8, 10.7, 12.8, 14.4, 16.2, 16.7, 16.7, 16.8, 16.2, 15.0, 13.3, 12.8, 10.7, 10.0, 8.2, 7.8, 7.8, 6.1, 6.8, 6.8, 6.8, 6.8, 7.2, 7.8, 9.4, 9.4, 11.1, 12.2, 12.8, 13.9, 14.4, 15.0, 14.4, 13.2, 13.2, 13.9, 12.8, 12.8, 12.2, 12.2, 11.1, 10.6, 10.0, 10.6, 11.2, 10.6, 10.7, 10.0, 10.6, 11.8, 12.2, 13.3, 13.3, 13.3, 12.8, 12.8, 11.8, 11.2, 11.2, 11.1, 11.2, 11.2, 9.4, 10.0, 10.7, 8.9, 9.4, 10.0, 10.0, 10.0, 10.0, 9.4, 10.0, 11.1, 11.2, 11.8, 12.2, 13.9, 12.8, 12.8, 12.8, 11.1, 10.0, 8.9, 7.0, 6.7, 5.7, 5.0, 4.4, 4.4, 4.4, 3.2, 4.4, 5.0, 5.0, 3.9, 6.1, 8.2, 11.1, 12.2, 13.9, 15.0, 16.1, 17.8, 17.2, 16.1, 13.9, 12.2, 10.7, 9.4, 8.9, 8.3, 8.2, 8.2, 7.2, 8.2, 8.9, 9.4, 10.6, 10.6, 13.9, 16.2, 18.3, 18.2, 18.9, 20.0, 20.0, 19.4, 17.2, 16.1, 15.0, 13.9, 12.8, 11.7, 9.4, 7.8, 7.2, 7.2, 7.2, 7.2, 5.7, 5.7, 5.0, 4.4, 6.7, 7.8, 8.9, 10.0, 10.0, 10.7, 12.2, 11.8, 11.0, 9.4, 8.2, 7.2, 6.8, 5.7, 5.0, 4.4, 3.2, 2.8, 1.7, 1.2, 1.1, 0.0, 0.0, 0.7, 2.2, 5.0, 8.2, 9.4, 10.0, 10.7, 11.1, 11.1, 10.7, 9.4, 8.3, 7.2, 6.8, 4.4, 3.3, 2.2, 1.8, 0.7, 0.6, -0.0, -0.6, -0.6, -0.6, -0.6, 1.8, 4.4, 7.8, 10.0, 10.6, 11.8, 12.8, 13.2, 12.2, 10.6, 9.4, 8.2, 5.6, 5.0, 4.4, 3.9, 3.3, 2.2, 2.2, 1.8, 0.7, 0.0, -0.6, -1.1, 2.2, 4.4, 7.2, 9.4, 10.7, 11.8, 12.8, 12.8, 12.8, 11.7, 10.0, 9.4, 6.7, 7.2, 6.1, 6.8, 3.2, 2.2, 1.1, 0.7, -0.6, -0.0, -1.1, -0.6, 3.3, 6.7, 10.0, 11.1, 12.2, 14.4, 15.0, 16.2, 16.1, 13.9, 11.1, 8.9, 8.2, 6.8, 5.0, 3.9, 3.3, 2.8, 2.8, 1.8, 1.1, 1.7, 0.0, 0.6, 8.9, 14.4, 17.8, 18.9, 19.4, 20.7, 21.7, 21.8, 21.1, 18.9, 16.1, 14.4, 11.8, 11.1, 12.2, 12.2, 12.2, 12.2, 12.8, 13.3, 10.6, 10.6, 5.6, 8.9, 9.4, 16.1, 18.2, 20.0, 21.7, 22.2, 22.8, 23.9, 23.9, 20.7, 17.2, 13.9, 13.9, 10.6, 8.3, 7.2, 7.2, 6.2, 6.1, 6.1, 6.1, 5.6, 6.2, 6.2, 9.4, 13.9, 16.8, 19.4, 21.7, 23.2, 23.2, 23.3, 22.8, 20.6, 17.8, 15.0, 12.2, 11.2, 9.4, 8.3])\n"
     ]
    }
   ],
   "source": [
    "def month_temps_all(dir):\n",
    "    '''\n",
    "    Finds all csvs in directory dir\n",
    "    converts all of the temperatures in the file and\n",
    "    returns a list of temperatures for the month in\n",
    "    Fahrenheit, Celsius, and Kelvin.\n",
    "    >>> month_temps('data')\n",
    "    ([-40.0, 32.0, 54.0], [-40.0, 0.0, 12.2], [233.2, 273.2, 285.4])\n",
    "    '''\n",
    "    month_fahr = []\n",
    "    month_cels = []\n",
    "    month_kelvins = []\n",
    "    all_csvs = find_csvs(dir)\n",
    "    for csv in all_csvs:\n",
    "        fahr, cels = convert_file(csv)\n",
    "        kelvins = convert_file_K(csv)\n",
    "        month_fahr.extend(fahr)\n",
    "        month_cels.extend(cels)\n",
    "        month_kelvins.extend(kelvins)\n",
    "    return month_fahr, month_cels, month_kelvins\n",
    "\n",
    "print(month_temps('data'))"
   ]
  },
  {
   "cell_type": "code",
   "execution_count": 35,
   "metadata": {
    "collapsed": true
   },
   "outputs": [],
   "source": [
    "month_fahr, month_cels, months_kelvins = month_temps_all('data')"
   ]
  },
  {
   "cell_type": "code",
   "execution_count": 36,
   "metadata": {
    "collapsed": false
   },
   "outputs": [
    {
     "name": "stdout",
     "output_type": "stream",
     "text": [
      "Is: 272.0 less than 285 degrees Kelvin?\n"
     ]
    }
   ],
   "source": [
    "# 3. Is the experiment ruined according to the first read of material? \n",
    "# (If the temperature in the lab fell below 285 degrees Kelvin all of the data is ruined.)\n",
    "print(\"Is: %s less than 285 degrees Kelvin?\" % min(months_kelvins))"
   ]
  },
  {
   "cell_type": "code",
   "execution_count": 37,
   "metadata": {
    "collapsed": false
   },
   "outputs": [
    {
     "data": {
      "image/png": "[encoded data removed]",
      "text/plain": [
       "<matplotlib.figure.Figure at 0x86ed550>"
      ]
     },
     "metadata": {},
     "output_type": "display_data"
    }
   ],
   "source": [
    "def plot_month_all():\n",
    "    month_fahr, month_cels, month_kelvins = month_temps_all('data')\n",
    "    plt.plot(list(range(len(month_fahr))), month_fahr)\n",
    "    plt.plot(list(range(len(month_cels))), month_cels)\n",
    "    plt.plot(list(range(len(month_kelvins))), month_kelvins)\n",
    "    plt.xlabel('Time (h)')\n",
    "    plt.ylabel('Temperature')\n",
    "    plt.xlabel('Time (h)')\n",
    "    plt.legend(['Fahrenheit', 'Celsius', 'Kelvin'])\n",
    "plot_month_all()"
   ]
  }
 ],
 "metadata": {
  "kernelspec": {
   "display_name": "Python 3",
   "language": "python",
   "name": "python3"
  },
  "language_info": {
   "codemirror_mode": {
    "name": "ipython",
    "version": 3
   },
   "file_extension": ".py",
   "mimetype": "text/x-python",
   "name": "python",
   "nbconvert_exporter": "python",
   "pygments_lexer": "ipython3",
   "version": "3.6.0"
  }
 },
 "nbformat": 4,
 "nbformat_minor": 2
}
